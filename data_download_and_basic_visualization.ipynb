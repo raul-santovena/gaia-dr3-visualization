{
 "cells": [
  {
   "cell_type": "markdown",
   "id": "122476cd-e10f-4b9b-bb82-da012d721e7f",
   "metadata": {},
   "source": [
    "# Imports and constants"
   ]
  },
  {
   "cell_type": "code",
   "execution_count": null,
   "id": "25aea9e1-928f-451d-bec6-648d8affed5e",
   "metadata": {},
   "outputs": [],
   "source": [
    "import os\n",
    "import glob\n",
    "from pathlib import Path\n",
    "import numpy as np\n",
    "import pandas as pd\n",
    "from sklearn.manifold import TSNE\n",
    "import matplotlib.pyplot as plt\n",
    "from astroquery.gaia import Gaia\n",
    "import warnings"
   ]
  },
  {
   "cell_type": "code",
   "execution_count": null,
   "id": "53276ac8-bc4a-48c7-8e58-efc79ebb1d8c",
   "metadata": {},
   "outputs": [],
   "source": [
    "from bokeh.io import output_notebook, reset_output, show, curdoc\n",
    "from bokeh.plotting import figure\n",
    "from bokeh.models import ColumnDataSource, Range1d\n",
    "from bokeh.layouts import gridplot, layout, column\n",
    "from bokeh.transform import linear_cmap, log_cmap\n",
    "from bokeh.palettes import Spectral6, RdYlBu11, Spectral11, GnBu9"
   ]
  },
  {
   "cell_type": "code",
   "execution_count": null,
   "id": "a6f30932-9993-4401-8922-4711bf6f9f4c",
   "metadata": {},
   "outputs": [],
   "source": [
    "data_path = os.path.normpath('data')"
   ]
  },
  {
   "cell_type": "code",
   "execution_count": null,
   "id": "0670316a-f7da-4df6-8fa4-0998410f8a16",
   "metadata": {},
   "outputs": [],
   "source": [
    "Path(data_path).mkdir(parents=True, exist_ok=True)"
   ]
  },
  {
   "cell_type": "code",
   "execution_count": null,
   "id": "d5d52ac5-b7fb-4378-9333-dbb828ac4d2e",
   "metadata": {},
   "outputs": [],
   "source": [
    "np.random.seed(29)"
   ]
  },
  {
   "cell_type": "markdown",
   "id": "2a4bf1c3-a83c-4f98-b463-8739868e811e",
   "metadata": {
    "tags": []
   },
   "source": [
    "# Data download <a id='data-download'></a>\n",
    "Data is downloaded from gaia archive. The selected data are the first n objects which satisfy the next requirements:\n",
    " - No null values for teff, logg and metallicty\n",
    " - They have RVS spectra\n",
    " - They have BP_RP spectra\n",
    " \n",
    "NOTE: If you have already executed the notebook you can skip to [Section 2](#load-data)\n",
    " \n",
    "The used query is shown below:\n",
    "\n",
    "    SELECT TOP N\n",
    "      gs.source_id, gs.ra, gs.dec, gs.phot_g_mean_mag+5-5*log10(gedr3_distance.r_med_geo) AS mg, \n",
    "      gs.teff_gspphot, gs.logg_gspphot, gs.mh_gspphot,\n",
    "      xp.bp_n_relevant_bases, xp.rp_n_relevant_bases\n",
    "    FROM gaiadr3.gaia_source AS gs\n",
    "    JOIN gaiadr3.xp_summary AS xp\n",
    "    ON gs.source_id = xp.source_id\n",
    "    JOIN external.gaiaedr3_distance AS gedr3_distance\n",
    "    ON gedr3_distance.source_id = gs.source_id\n",
    "    WHERE gs.has_rvs = '1' AND\n",
    "          gs.teff_gspphot IS NOT NULL AND\n",
    "          gs.logg_gspphot IS NOT NULL AND\n",
    "          gs.mh_gspphot IS NOT NULL \n",
    " \n",
    " This section is an adaption of this tutorial, check it for more information: https://www.cosmos.esa.int/web/gaia-users/archive/datalink-products"
   ]
  },
  {
   "cell_type": "code",
   "execution_count": null,
   "id": "c5f35d66-d510-4e2b-9694-8993f93703dd",
   "metadata": {},
   "outputs": [],
   "source": [
    "Gaia.login() # Not necessary, but it has benefits when you execute long queries"
   ]
  },
  {
   "cell_type": "code",
   "execution_count": null,
   "id": "50b56876-2057-4318-b1e9-e26bd1ee7c1b",
   "metadata": {},
   "outputs": [],
   "source": [
    "N_OBJECTS = 20 # More than 5000 would raise an error. For more than 5000 objects check: https://www.cosmos.esa.int/web/gaia-users/archive/datalink-products#Tutorial:--Download-DataLink-products-for-%3E5000-sources"
   ]
  },
  {
   "cell_type": "code",
   "execution_count": null,
   "id": "03a3ea5f-cca2-49fc-af5d-808a292168f9",
   "metadata": {},
   "outputs": [],
   "source": [
    "N_OBJECTS = 5000 if N_OBJECTS > 5000 else N_OBJECTS"
   ]
  },
  {
   "cell_type": "code",
   "execution_count": null,
   "id": "ab2c7752-070a-4be8-8fa5-f6b42201dccd",
   "metadata": {},
   "outputs": [],
   "source": [
    "query = \"SELECT TOP {} \\\n",
    "      gs.source_id, gs.ra, gs.dec, gs.phot_g_mean_mag+5-5*log10(gedr3_distance.r_med_geo) AS mg, \\\n",
    "      gs.teff_gspphot, gs.logg_gspphot, gs.mh_gspphot, \\\n",
    "      xp.bp_n_relevant_bases, xp.rp_n_relevant_bases \\\n",
    "    FROM gaiadr3.gaia_source AS gs \\\n",
    "    JOIN gaiadr3.xp_summary AS xp \\\n",
    "      ON gs.source_id = xp.source_id \\\n",
    "    JOIN external.gaiaedr3_distance AS gedr3_distance \\\n",
    "      ON gedr3_distance.source_id = gs.source_id \\\n",
    "    WHERE gs.has_rvs = '1' AND \\\n",
    "          gs.teff_gspphot IS NOT NULL AND \\\n",
    "          gs.logg_gspphot IS NOT NULL AND \\\n",
    "          gs.mh_gspphot IS NOT NULL\".format(N_OBJECTS)"
   ]
  },
  {
   "cell_type": "code",
   "execution_count": null,
   "id": "c2a769fb-ca1f-4e2b-9e3d-bd1bc0a0c59c",
   "metadata": {},
   "outputs": [],
   "source": [
    "job = Gaia.launch_job_async(query)\n",
    "results = job.get_results()"
   ]
  },
  {
   "cell_type": "code",
   "execution_count": null,
   "id": "62797c42-3eb6-4419-b9ca-79236fb0c50c",
   "metadata": {},
   "outputs": [],
   "source": [
    "gaia_source_df = results.to_pandas()"
   ]
  },
  {
   "cell_type": "code",
   "execution_count": null,
   "id": "7e23c77a-4694-4856-948b-a504337643ce",
   "metadata": {},
   "outputs": [],
   "source": [
    "print(gaia_source_df.shape)\n",
    "gaia_source_df.head()"
   ]
  },
  {
   "cell_type": "markdown",
   "id": "c5a682db-ddd1-4d88-88f5-ee500bb8c9fa",
   "metadata": {},
   "source": [
    "## Get RVS"
   ]
  },
  {
   "cell_type": "code",
   "execution_count": null,
   "id": "2967af93-f77b-44c3-9ddc-5df394963fde",
   "metadata": {
    "scrolled": true,
    "tags": []
   },
   "outputs": [],
   "source": [
    "retrieval_type = 'RVS' # Options are: 'EPOCH_PHOTOMETRY', 'MCMC_GSPPHOT', 'MCMC_MSC', 'XP_SAMPLED', \n",
    "                        # 'XP_CONTINUOUS', 'RVS', 'ALL' // The function 'load_data' only accepts \n",
    "                        # a string, so if you want to download several types of data, but not all, \n",
    "                        # you should launch the function as many times as different types of data you want \n",
    "                        # to download\n",
    "data_structure = 'COMBINED'   # Options are: 'INDIVIDUAL', 'COMBINED', 'RAW'\n",
    "data_release   = 'Gaia DR3'     # Options are: 'Gaia DR3' (default), 'Gaia DR2'\n",
    "\n",
    "\n",
    "rvs_datalink = None\n",
    "with warnings.catch_warnings(): # We catch warnings since the function 'load_data' may launch a lot\n",
    "    warnings.simplefilter(\"ignore\")\n",
    "    \n",
    "    rvs_datalink = Gaia.load_data(ids=results['source_id'], \n",
    "                              data_release = data_release, \n",
    "                              retrieval_type=retrieval_type, \n",
    "                              data_structure = data_structure, \n",
    "                              format = 'csv',\n",
    "                              verbose = True, # Be careful, if you pass many ids it will generate a large output. \n",
    "                              output_file = None)\n",
    "    \n",
    "    "
   ]
  },
  {
   "cell_type": "code",
   "execution_count": null,
   "id": "a68e2385-5952-43b0-96a9-3bdd04e0f3e9",
   "metadata": {},
   "outputs": [],
   "source": [
    "print('The following Datalink products have been downloaded:')\n",
    "\n",
    "dl_keys  = [inp for inp in rvs_datalink.keys()]\n",
    "dl_keys.sort()\n",
    "\n",
    "print()\n",
    "for dl_key in dl_keys:\n",
    "    print(' * {}'.format(dl_key))"
   ]
  },
  {
   "cell_type": "code",
   "execution_count": null,
   "id": "1754a4e8-2b81-4e94-87e2-ca9eaa8c0246",
   "metadata": {},
   "outputs": [],
   "source": [
    "rvs_df = rvs_datalink[dl_keys[0]][0].to_pandas() # It only should have a single key, and inside, just a single table.\n",
    "                                                 # If the retrieval_type parameters was equal to 'ALL', then there\n",
    "                                                 # would be several keys and you would have to deal with"
   ]
  },
  {
   "cell_type": "code",
   "execution_count": null,
   "id": "47cb0e0b-1f13-494b-a5f0-2f366ee1c066",
   "metadata": {},
   "outputs": [],
   "source": [
    "print(rvs_df.shape)\n",
    "rvs_df.head()"
   ]
  },
  {
   "cell_type": "markdown",
   "id": "7cd4fb06-04a2-45c0-aeaf-e5bdb6348478",
   "metadata": {},
   "source": [
    "## Get BP-RP Spectra"
   ]
  },
  {
   "cell_type": "code",
   "execution_count": null,
   "id": "4fc79c98-23f6-42de-b6e8-8bdc76083ced",
   "metadata": {
    "scrolled": true,
    "tags": []
   },
   "outputs": [],
   "source": [
    "retrieval_type = 'XP_CONTINUOUS' \n",
    "data_structure = 'COMBINED'   \n",
    "data_release   = 'Gaia DR3'   \n",
    "\n",
    "\n",
    "bp_rp_datalink = None\n",
    "with warnings.catch_warnings(): \n",
    "    warnings.simplefilter(\"ignore\")\n",
    "    \n",
    "    bp_rp_datalink = Gaia.load_data(ids=results['source_id'], \n",
    "                              data_release = data_release, \n",
    "                              retrieval_type=retrieval_type, \n",
    "                              data_structure = data_structure, \n",
    "                              format = 'csv',\n",
    "                              verbose = True,\n",
    "                              output_file = None)\n",
    "    \n",
    "    "
   ]
  },
  {
   "cell_type": "code",
   "execution_count": null,
   "id": "6b7cb3b0-fead-4392-bd8a-653a65abd8c3",
   "metadata": {},
   "outputs": [],
   "source": [
    "print('The following Datalink products have been downloaded:')\n",
    "\n",
    "dl_keys  = [inp for inp in bp_rp_datalink.keys()]\n",
    "dl_keys.sort()\n",
    "\n",
    "print()\n",
    "for dl_key in dl_keys:\n",
    "    print(' * {}'.format(dl_key))"
   ]
  },
  {
   "cell_type": "code",
   "execution_count": null,
   "id": "6aba5e9b-b027-40ee-b6c4-d244d7e48b6c",
   "metadata": {},
   "outputs": [],
   "source": [
    "bp_rp_df = bp_rp_datalink[dl_keys[0]][0].to_pandas() "
   ]
  },
  {
   "cell_type": "code",
   "execution_count": null,
   "id": "c27c06a7-8253-431b-9321-00c12a555a18",
   "metadata": {},
   "outputs": [],
   "source": [
    "print(bp_rp_df.shape)\n",
    "bp_rp_df.head()"
   ]
  },
  {
   "cell_type": "markdown",
   "id": "1b73c145-3149-469d-af14-db43e2d58969",
   "metadata": {},
   "source": [
    "---"
   ]
  },
  {
   "cell_type": "markdown",
   "id": "4be341a0-7da5-4794-8bfb-9f87c595c817",
   "metadata": {
    "tags": []
   },
   "source": [
    "## Join general info + bp-rp + rvs"
   ]
  },
  {
   "cell_type": "markdown",
   "id": "228f1380-306b-434d-b192-476282f4e141",
   "metadata": {},
   "source": [
    "### RVS\n",
    "We reformat rvs dataframe to get a RVS spectrum per row"
   ]
  },
  {
   "cell_type": "code",
   "execution_count": null,
   "id": "f5f7d1a1-619f-423a-a022-628675f4f233",
   "metadata": {},
   "outputs": [],
   "source": [
    "rvs_wavelengths = np.unique(rvs_df.wavelength.values)"
   ]
  },
  {
   "cell_type": "code",
   "execution_count": null,
   "id": "b7bf487d-7830-408d-ab2d-35a2db721071",
   "metadata": {},
   "outputs": [],
   "source": [
    "np.save(os.path.join(data_path, 'rvs_wavelengths'), rvs_wavelengths)"
   ]
  },
  {
   "cell_type": "code",
   "execution_count": null,
   "id": "883785ae-bd6d-4c78-9ab6-f7d32bc234c2",
   "metadata": {},
   "outputs": [],
   "source": [
    "def reformat_rvs_df(rvs_df, verbose=0):\n",
    "    '''\n",
    "    Transform the dataframe directly created from gaia datalink rvs spectra and returns a dataframe with a rvs spectrum per row\n",
    "    '''\n",
    "    source_ids = list()\n",
    "    fluxes = list()\n",
    "    \n",
    "    _rvs_df = rvs_df.fillna(value=0)\n",
    "    \n",
    "    _grouped_rvs_df = _rvs_df.groupby(by='source_id')\n",
    "    \n",
    "    n_groups = len(_grouped_rvs_df)\n",
    "    \n",
    "    i = 1\n",
    "    for name, group in _grouped_rvs_df:\n",
    "        verbose and print('{}/{}'.format(i, n_groups), end='\\r')\n",
    "        source_ids.append(name)\n",
    "        fluxes.append(group.flux.values.tolist())\n",
    "        i+=1\n",
    "\n",
    "    _rvs_df = pd.DataFrame(data={'source_id':source_ids, 'rvs_flux':fluxes})\n",
    "\n",
    "    return _rvs_df"
   ]
  },
  {
   "cell_type": "code",
   "execution_count": null,
   "id": "062ffa87-4683-40c5-8142-434d0dffe929",
   "metadata": {},
   "outputs": [],
   "source": [
    "rvs_df = reformat_rvs_df(rvs_df=rvs_df, verbose=1)"
   ]
  },
  {
   "cell_type": "code",
   "execution_count": null,
   "id": "b8050e18-a9ac-4c3a-858f-5db8ff6f7d8f",
   "metadata": {},
   "outputs": [],
   "source": [
    "print(rvs_df.shape)\n",
    "rvs_df.head()"
   ]
  },
  {
   "cell_type": "code",
   "execution_count": null,
   "id": "65dc2e5f-4646-4f99-a8ae-3f04f786ba90",
   "metadata": {},
   "outputs": [],
   "source": [
    "rvs_df.to_csv(os.path.join(data_path, 'simplified_RVS.csv'))"
   ]
  },
  {
   "cell_type": "markdown",
   "id": "08f13863-5bd7-4716-a38e-c0b426a7b6ee",
   "metadata": {},
   "source": [
    "### XP\n",
    "We load data in a pandas and clean it up to keep only the essential information"
   ]
  },
  {
   "cell_type": "code",
   "execution_count": null,
   "id": "7899d8b0-e927-4d09-839e-062586aec78d",
   "metadata": {},
   "outputs": [],
   "source": [
    "def process_xp_df(xp_df):\n",
    "    '''\n",
    "    Recive a dataframe with the bp-rp coefficients in the format of the Gaia Datalink, and parse the strings to transform them to numpy arrays\n",
    "    \n",
    "    Parameteres:\n",
    "    - xp_df: Dataframe with the bp-rp coefficients\n",
    "    '''\n",
    "    _bp_coeff_list = list()\n",
    "    _rp_coeff_list = list()\n",
    "\n",
    "    _xp_df = xp_df[['source_id', 'bp_coefficients', 'rp_coefficients']]    \n",
    "    \n",
    "    for _, row in _xp_df.iterrows():\n",
    "        _bp = row.bp_coefficients\n",
    "        _rp = row.rp_coefficients\n",
    "        \n",
    "        _bp_coefficients = list()\n",
    "        _rp_coefficients = list()\n",
    "                \n",
    "        for str_number in _bp.strip('()').split(','):\n",
    "            _bp_coefficients.append(float(str_number))\n",
    "        for str_number in _rp.strip('()').split(','):\n",
    "            _rp_coefficients.append(float(str_number))\n",
    "            \n",
    "        _bp_coeff_list.append(_bp_coefficients)\n",
    "        _rp_coeff_list.append(_rp_coefficients)\n",
    "    \n",
    "    # Convert list to numpy array\n",
    "    _bp_coeff_array = np.array(_bp_coeff_list)\n",
    "    _rp_coeff_array = np.array(_rp_coeff_list)\n",
    "    \n",
    "    _xp_df = _xp_df.assign(bp_coefficients=_bp_coeff_list,\n",
    "                           rp_coefficients=_rp_coeff_list)\n",
    "    \n",
    "    return _xp_df\n"
   ]
  },
  {
   "cell_type": "code",
   "execution_count": null,
   "id": "d0b6bb6b-7294-4518-afd6-0226bdf11b13",
   "metadata": {},
   "outputs": [],
   "source": [
    "xp_df = process_xp_df(xp_df=bp_rp_df)"
   ]
  },
  {
   "cell_type": "code",
   "execution_count": null,
   "id": "3842a74c-698b-440d-b927-964fe44b6565",
   "metadata": {},
   "outputs": [],
   "source": [
    "xp_df.head()"
   ]
  },
  {
   "cell_type": "markdown",
   "id": "b4c9249c-d3c8-4243-bd2c-b501adc09571",
   "metadata": {},
   "source": [
    "## Teff, logg, mh distribution"
   ]
  },
  {
   "cell_type": "code",
   "execution_count": null,
   "id": "72a55509-1618-43d7-9f99-d49b6be4c1bf",
   "metadata": {},
   "outputs": [],
   "source": [
    "fig, ax = plt.subplots(figsize=(10,6))\n",
    "gaia_source_df.mg.hist(bins=40, ax=ax)\n",
    "\n",
    "ax.set_xlabel('G')\n",
    "ax.set_ylabel('Counts')\n",
    "ax.set_title('G Histogram')"
   ]
  },
  {
   "cell_type": "code",
   "execution_count": null,
   "id": "9bbd67c3-8a8b-44e6-abc4-898e390bbaa5",
   "metadata": {},
   "outputs": [],
   "source": [
    "fig, ax = plt.subplots(figsize=(10,6))\n",
    "gaia_source_df.teff_gspphot.hist(bins=40, ax=ax)\n",
    "\n",
    "ax.set_xlabel('Teff')\n",
    "ax.set_ylabel('Counts')\n",
    "ax.set_title('Teff Histogram')"
   ]
  },
  {
   "cell_type": "code",
   "execution_count": null,
   "id": "2dd41656-2802-4bcc-bc39-1776cc631e0f",
   "metadata": {},
   "outputs": [],
   "source": [
    "fig, ax = plt.subplots(figsize=(10,6))\n",
    "gaia_source_df.mh_gspphot.hist(bins=40, ax=ax)\n",
    "\n",
    "ax.set_xlabel('Metallicity')\n",
    "ax.set_ylabel('Counts')\n",
    "ax.set_title('Mh Histogram')"
   ]
  },
  {
   "cell_type": "markdown",
   "id": "90f56091-17f1-4e18-b1da-89778da1fd05",
   "metadata": {},
   "source": [
    "## Join the three dataframes"
   ]
  },
  {
   "cell_type": "code",
   "execution_count": null,
   "id": "ebb81452-9d3b-4df1-a146-1b6cd69e3ecf",
   "metadata": {},
   "outputs": [],
   "source": [
    "# Check the type of source_id column\n",
    "gaia_source_df.source_id.dtype == xp_df.source_id.dtype == rvs_df.source_id.dtype"
   ]
  },
  {
   "cell_type": "code",
   "execution_count": null,
   "id": "c3edb415-715c-4b76-8beb-9289f2632a1d",
   "metadata": {},
   "outputs": [],
   "source": [
    "xp_df = xp_df.astype({'source_id':'int64'})\n",
    "rvs_df = rvs_df.astype({'source_id':'int64'})"
   ]
  },
  {
   "cell_type": "code",
   "execution_count": null,
   "id": "1e125508-4ccd-4f2e-8292-a235a696b712",
   "metadata": {},
   "outputs": [],
   "source": [
    "# Check the type of source_id column\n",
    "gaia_source_df.source_id.dtype == xp_df.source_id.dtype == rvs_df.source_id.dtype"
   ]
  },
  {
   "cell_type": "code",
   "execution_count": null,
   "id": "b9ba7432-d5ed-4c29-9f46-791ac752d7cd",
   "metadata": {},
   "outputs": [],
   "source": [
    "# We set the source_id column as a index in the three dataframes\n",
    "gaia_source_df.set_index(keys='source_id', inplace=True)\n",
    "xp_df.set_index(keys='source_id', inplace=True)\n",
    "rvs_df.set_index(keys='source_id', inplace=True)"
   ]
  },
  {
   "cell_type": "code",
   "execution_count": null,
   "id": "9e5dbb34-6699-4cb2-be1c-8218d842231b",
   "metadata": {},
   "outputs": [],
   "source": [
    "final_df = gaia_source_df.join(other=[xp_df, rvs_df]) "
   ]
  },
  {
   "cell_type": "code",
   "execution_count": null,
   "id": "bfb93cd6-158a-4265-8ff1-004430cb0d51",
   "metadata": {},
   "outputs": [],
   "source": [
    "final_df.head()"
   ]
  },
  {
   "cell_type": "code",
   "execution_count": null,
   "id": "a352bce9-56c4-4fc7-8533-aa0d9213ec60",
   "metadata": {},
   "outputs": [],
   "source": [
    "final_df.sort_index(inplace=True)"
   ]
  },
  {
   "cell_type": "code",
   "execution_count": null,
   "id": "b2edb1c9-768d-463f-af97-e17013ea8197",
   "metadata": {},
   "outputs": [],
   "source": [
    "final_df.to_csv(os.path.join(data_path, 'final_df.csv'))"
   ]
  },
  {
   "cell_type": "markdown",
   "id": "a3805be0-7a58-4bd3-bfd2-913ca81af167",
   "metadata": {
    "tags": []
   },
   "source": [
    "# Load data <a id='load-data'></a>\n",
    "Only necessary if you have not run the section 1 and you have the data on disk. If you have not never run [Section 2](#data-download), come back and execute it. If you have run it, you can jump into [Section 4](#t-sne)"
   ]
  },
  {
   "cell_type": "code",
   "execution_count": null,
   "id": "8735102e-f56f-49db-9b6d-113c65babf0c",
   "metadata": {},
   "outputs": [],
   "source": [
    "import ast"
   ]
  },
  {
   "cell_type": "code",
   "execution_count": null,
   "id": "cc54df3a-6df5-4900-a025-8ac5b821bb16",
   "metadata": {},
   "outputs": [],
   "source": [
    "rvs_wavelengths = np.load(os.path.join(data_path, 'rvs_wavelengths.npy'))"
   ]
  },
  {
   "cell_type": "code",
   "execution_count": null,
   "id": "e3db8fe9-13d2-466b-9574-c85c2ba0f8b1",
   "metadata": {},
   "outputs": [],
   "source": [
    "final_df = pd.read_csv(os.path.join(data_path, 'final_df.csv'), \n",
    "                       index_col='source_id')"
   ]
  },
  {
   "cell_type": "code",
   "execution_count": null,
   "id": "b6758ee1-8b44-4d7b-92da-4766251eba08",
   "metadata": {},
   "outputs": [],
   "source": [
    "final_df['bp_coefficients'] = final_df['bp_coefficients'].apply(ast.literal_eval)"
   ]
  },
  {
   "cell_type": "code",
   "execution_count": null,
   "id": "a3aae928-d5ae-4072-af0f-5ddce76ec0ac",
   "metadata": {},
   "outputs": [],
   "source": [
    "final_df['rp_coefficients'] = final_df['rp_coefficients'].apply(ast.literal_eval)"
   ]
  },
  {
   "cell_type": "code",
   "execution_count": null,
   "id": "7f86f3a1-36ec-4c50-a41c-702094a30783",
   "metadata": {},
   "outputs": [],
   "source": [
    "final_df['rvs_flux'] = final_df['rvs_flux'].apply(ast.literal_eval)"
   ]
  },
  {
   "cell_type": "code",
   "execution_count": null,
   "id": "4e12243a-ee3d-49c3-9d2a-62d14887ee8d",
   "metadata": {},
   "outputs": [],
   "source": [
    "final_df.head()"
   ]
  },
  {
   "cell_type": "markdown",
   "id": "db26c21c-3cd6-49fb-a9a0-3e8eaeb7549a",
   "metadata": {
    "tags": []
   },
   "source": [
    "# T-SNE"
   ]
  },
  {
   "cell_type": "markdown",
   "id": "2f0ddaf6-8509-4dff-b2dc-1007598ac1b6",
   "metadata": {},
   "source": [
    "## Dataset creation <a id='t-sne'></a>"
   ]
  },
  {
   "cell_type": "code",
   "execution_count": null,
   "id": "d5b726d2-2916-47c8-a9cd-59a46b8baa2d",
   "metadata": {},
   "outputs": [],
   "source": [
    "def create_dataset(df, n_coeffs=None):\n",
    "    '''\n",
    "    Returns the xp and rvs numpy arrays used for the T-SNE\n",
    "    \n",
    "    Parameters:\n",
    "    - n_coeffs: number of the coefficients to be selected in bp-rp spectra\n",
    "    '''\n",
    "    # XP Spectra\n",
    "    _xp_spectra = list()\n",
    "    for _, row in df.iterrows():\n",
    "        _bp = row.bp_coefficients[:n_coeffs]\n",
    "        _rp = row.rp_coefficients[:n_coeffs]\n",
    "            \n",
    "        _xp_spectra.append(_bp + _rp)\n",
    "    \n",
    "    _xp_spectra = np.array(_xp_spectra)        \n",
    "    \n",
    "    # RVS Spectra\n",
    "    _rvs_spectra = np.array([np.array(rvs) for rvs in df.rvs_flux.values])\n",
    "    \n",
    "    return _xp_spectra, _rvs_spectra\n",
    "        \n",
    "\n"
   ]
  },
  {
   "cell_type": "code",
   "execution_count": null,
   "id": "84b617dc-626d-49a9-9fe3-304116716355",
   "metadata": {},
   "outputs": [],
   "source": [
    "xp_X, rvs_X = create_dataset(df=final_df, n_coeffs=3)"
   ]
  },
  {
   "cell_type": "code",
   "execution_count": null,
   "id": "45c1c6ac-89f3-45cc-822f-5464cfb2beeb",
   "metadata": {},
   "outputs": [],
   "source": [
    "np.save(os.path.join(data_path, 'xp'), xp_X)\n",
    "np.save(os.path.join(data_path, 'rvs'), rvs_X)"
   ]
  },
  {
   "cell_type": "code",
   "execution_count": null,
   "id": "5c917b7e-7103-44e1-abcf-a91a7851e741",
   "metadata": {},
   "outputs": [],
   "source": [
    "print(xp_X.shape)\n",
    "print(rvs_X.shape)"
   ]
  },
  {
   "cell_type": "markdown",
   "id": "af0485cd-a95a-42d5-8426-8f8fcd259418",
   "metadata": {},
   "source": [
    "## T-sne"
   ]
  },
  {
   "cell_type": "code",
   "execution_count": null,
   "id": "157f2c7c-ea78-4ee9-904f-32da07710b64",
   "metadata": {
    "scrolled": true,
    "tags": []
   },
   "outputs": [],
   "source": [
    "xp_X_embedded = TSNE(perplexity=90, n_components=2, learning_rate='auto',\n",
    "                     init='random', random_state=0, verbose=2).fit_transform(xp_X)"
   ]
  },
  {
   "cell_type": "code",
   "execution_count": null,
   "id": "ba3b9f41-4e58-46b8-b701-5716b07bac4b",
   "metadata": {
    "scrolled": true,
    "tags": []
   },
   "outputs": [],
   "source": [
    "rvs_X_embedded = TSNE(perplexity=90, n_components=2, learning_rate='auto',\n",
    "                     init='random', random_state=0, verbose=2).fit_transform(rvs_X)"
   ]
  },
  {
   "cell_type": "markdown",
   "id": "e38c5160-abfd-4f71-a7e7-cf1e9d98b1a0",
   "metadata": {},
   "source": [
    "## Saving T-SNE data"
   ]
  },
  {
   "cell_type": "code",
   "execution_count": null,
   "id": "014ada52-a0ec-4385-90f9-07ed58cdd43b",
   "metadata": {},
   "outputs": [],
   "source": [
    "np.save(os.path.join(data_path, 'rvs_embedded'), rvs_X_embedded)\n",
    "np.save(os.path.join(data_path, 'xp_embedded'), xp_X_embedded)"
   ]
  },
  {
   "cell_type": "markdown",
   "id": "0a1eb432-baeb-4f85-8795-61d47bd22de3",
   "metadata": {},
   "source": [
    "# Visualization that combine basic info with tsne"
   ]
  },
  {
   "cell_type": "code",
   "execution_count": null,
   "id": "377e86dd-2d75-493c-9765-003a207d8b74",
   "metadata": {},
   "outputs": [],
   "source": [
    "teff_palette = ['#313695',\n",
    "                '#4575b4',\n",
    "                '#74add1',\n",
    "                '#abd9e9',\n",
    "                '#e0f3f8',\n",
    "                '#ffffbf',\n",
    "                '#fee090',\n",
    "                '#fdae61',\n",
    "                '#f46d43',\n",
    "                '#d73027',\n",
    "                '#a50026']"
   ]
  },
  {
   "cell_type": "code",
   "execution_count": null,
   "id": "f486ea66-82ab-4b6f-953d-15a7620b1a48",
   "metadata": {},
   "outputs": [],
   "source": [
    "teff_palette.reverse()"
   ]
  },
  {
   "cell_type": "code",
   "execution_count": null,
   "id": "12539c27-18d9-4aa8-88f6-9436a6d31884",
   "metadata": {},
   "outputs": [],
   "source": [
    "def get_magnitude_sizes(magnitude_range):\n",
    "    '''\n",
    "    Returns a representation of the sizes of an object based on their magnitudes\n",
    "    \n",
    "    Parameters:\n",
    "    - magnitude_range: 1d list/array with the object magnitudes\n",
    "    '''\n",
    "    _m_r = magnitude_range\n",
    "    \n",
    "    # We inverse the magnitude and move the initial range to 0: -g + max(g)\n",
    "    sizes = -_m_r + max(_m_r)\n",
    "    \n",
    "    # We normalize between 0-1\n",
    "    sizes = (sizes-min(sizes))/(max(sizes)-min(sizes))\n",
    "    \n",
    "    # We move the range to 1-10\n",
    "    sizes = sizes*9 + 1\n",
    "    \n",
    "    return sizes"
   ]
  },
  {
   "cell_type": "code",
   "execution_count": null,
   "id": "da65a4a8-a753-4862-bc7e-df81e29db308",
   "metadata": {},
   "outputs": [],
   "source": [
    "mg_sizes = get_magnitude_sizes(magnitude_range=final_df.mg.values)"
   ]
  },
  {
   "cell_type": "code",
   "execution_count": null,
   "id": "4b3fc43b-0dd6-443c-9114-5711f0845e95",
   "metadata": {},
   "outputs": [],
   "source": [
    "curdoc().theme = 'dark_minimal'"
   ]
  },
  {
   "cell_type": "code",
   "execution_count": null,
   "id": "557c5329-8bc3-4628-a989-e89ec03e4554",
   "metadata": {},
   "outputs": [],
   "source": [
    "def get_low_resolution_rvs_spectra(rvs_spectra, rvs_wavelengths, reduction_factor=2):\n",
    "    '''\n",
    "    Reduce rvs spectra with the correct wavelengths by a defined factor\n",
    "    \n",
    "    Parameters:\n",
    "    - rvs_spectra: 2d numpy array with the rvs spectra\n",
    "    - rvs_wavelengths: 1d numpy array/list with the rvs wavelengths\n",
    "    - reduction_factor: the size of the reduction 2=2x, 3=3x...\n",
    "    '''\n",
    "    return rvs_spectra[:,::reduction_factor], rvs_wavelengths[::reduction_factor]\n"
   ]
  },
  {
   "cell_type": "code",
   "execution_count": null,
   "id": "8e5afc77-b491-48bf-baad-b88463731c11",
   "metadata": {},
   "outputs": [],
   "source": [
    "low_rvs, low_rvs_wavelengths = get_low_resolution_rvs_spectra(rvs_spectra=np.array(final_df.rvs_flux.values.tolist()), \n",
    "                                                              rvs_wavelengths=rvs_wavelengths,\n",
    "                                                              reduction_factor=64)"
   ]
  },
  {
   "cell_type": "code",
   "execution_count": null,
   "id": "113f3f50-f924-4687-a9c9-d8051e459981",
   "metadata": {},
   "outputs": [],
   "source": [
    "source = ColumnDataSource(data={'source_id':final_df.index.values,\n",
    "                                'g':final_df.mg.values,\n",
    "                                'sizes': mg_sizes, \n",
    "                                'teff':final_df.teff_gspphot.values,\n",
    "                                'logg':final_df.logg_gspphot.values,\n",
    "                                'mh':final_df.mh_gspphot.values,\n",
    "                                'rvs':low_rvs.tolist(),\n",
    "                                'rvs_wavelengths':[low_rvs_wavelengths]*len(low_rvs.tolist()),\n",
    "                                'bp_rp':xp_X.tolist(),\n",
    "                                'n_coeffs':[list(range(len(coeffs))) for coeffs in xp_X],\n",
    "                                'x_xp_tsne':xp_X_embedded[:,0],\n",
    "                                'y_xp_tsne':xp_X_embedded[:,1],\n",
    "                                'x_rvs_tsne':rvs_X_embedded[:,0],\n",
    "                                'y_rvs_tsne':rvs_X_embedded[:,1]})\n",
    "\n",
    "# Creating custom palette\n",
    "teff_mapper = log_cmap(field_name='teff', palette=teff_palette, low=min(final_df.teff_gspphot), high=max(final_df.teff_gspphot))\n",
    "mh_mapper = linear_cmap(field_name='mh', palette=Spectral11, low=min(final_df.mh_gspphot), high=max(final_df.mh_gspphot))\n",
    "logg_mapper = linear_cmap(field_name='logg', palette=Spectral11, low=min(final_df.logg_gspphot), high=max(final_df.logg_gspphot))\n",
    "\n",
    "color_mapper = teff_mapper\n",
    "\n",
    "TOOLS = \"pan,box_zoom,box_select,help,reset\"\n",
    "\n",
    "\n",
    "figures = list()\n",
    "\n",
    "hr_figure = figure(title='HR-diagram', tools=TOOLS, output_backend=\"webgl\")\n",
    "figures.append(hr_figure)\n",
    "\n",
    "bp_rp_figure = figure(title='BP-RP spectra', tools=TOOLS, output_backend=\"webgl\") \n",
    "figures.append(bp_rp_figure)\n",
    "\n",
    "rvs_figure = figure(title='RVS spectra', tools=TOOLS, output_backend=\"webgl\")\n",
    "figures.append(rvs_figure)\n",
    "\n",
    "xp_tsne_figure = figure(title='XP T-SNE', tools=TOOLS, output_backend=\"webgl\")\n",
    "figures.append(xp_tsne_figure)\n",
    "\n",
    "rvs_tsne_figure = figure(title='RVS T-SNE', tools=TOOLS, output_backend=\"webgl\")\n",
    "figures.append(rvs_tsne_figure)\n",
    "\n",
    "\n",
    "# HR\n",
    "hr_figure.circle(x='teff', y='g', size='sizes', source=source, line_color='black', color=color_mapper)\n",
    "hr_figure.y_range.flipped = True\n",
    "hr_figure.x_range = Range1d(15000, 2000)\n",
    "\n",
    "# BP\n",
    "bp_rp_figure.multi_line(xs='n_coeffs', ys='bp_rp', source=source, color=color_mapper)\n",
    "\n",
    "# RP\n",
    "rvs_figure.multi_line(xs='rvs_wavelengths', ys='rvs', source=source, color=color_mapper)\n",
    "\n",
    "# XP TSNE\n",
    "xp_tsne_figure.circle(x='x_xp_tsne', y='y_xp_tsne', size='sizes', source=source, line_color='black', color=color_mapper)\n",
    "\n",
    "# RVS TSNE\n",
    "rvs_tsne_figure.circle(x='x_rvs_tsne', y='y_rvs_tsne', size='sizes', source=source, line_color='black', color=color_mapper)\n",
    "\n",
    "# Set autohide parameter for every figure to True\n",
    "for fig in figures:\n",
    "    fig.toolbar.autohide = True\n",
    "\n",
    "\n",
    "# Layout\n",
    "xp_figure = column([bp_rp_figure, rvs_figure], sizing_mode='stretch_both')\n",
    "\n",
    "p = layout([[hr_figure, xp_figure],\n",
    "            [xp_tsne_figure, rvs_tsne_figure]], sizing_mode='stretch_both')\n",
    "\n",
    "show(p)"
   ]
  },
  {
   "cell_type": "markdown",
   "id": "202dba43-6495-4868-a816-ee5c465f321d",
   "metadata": {},
   "source": [
    "# T-SNE 3D"
   ]
  },
  {
   "cell_type": "code",
   "execution_count": null,
   "id": "c313e942-af5e-4d54-bec7-d8fe765582e7",
   "metadata": {},
   "outputs": [],
   "source": [
    "import plotly.express as px"
   ]
  },
  {
   "cell_type": "code",
   "execution_count": null,
   "id": "67ac026c-017c-46c6-8ff3-c6f2a2e8019f",
   "metadata": {
    "scrolled": true,
    "tags": []
   },
   "outputs": [],
   "source": [
    "xp_X_embedded_3d = TSNE(perplexity=60, n_components=3, learning_rate='auto',\n",
    "                     init='random', random_state=0, verbose=2, n_jobs=-1).fit_transform(xp_X)"
   ]
  },
  {
   "cell_type": "code",
   "execution_count": null,
   "id": "76c95020-e62e-4c2d-84a0-88e2b0e174ac",
   "metadata": {
    "scrolled": true,
    "tags": []
   },
   "outputs": [],
   "source": [
    "rvs_X_embedded_3d = TSNE(perplexity=100, n_components=3, learning_rate='auto',\n",
    "                     init='random', random_state=0, verbose=2).fit_transform(rvs_X)"
   ]
  },
  {
   "cell_type": "code",
   "execution_count": null,
   "id": "4ed0203e-6677-4394-ae08-90eb765174f8",
   "metadata": {},
   "outputs": [],
   "source": [
    "fig = px.scatter_3d(width=900, height=600, \n",
    "                    x=xp_X_embedded_3d[:,0], y=xp_X_embedded_3d[:,1], z=xp_X_embedded_3d[:,2], \n",
    "                    size=3*mg_sizes, size_max=max(3*mg_sizes), opacity=1,\n",
    "                    color=final_df.teff_gspphot, color_continuous_scale='RdYlBu', \n",
    "                    template='plotly_dark')\n",
    "fig.show()"
   ]
  },
  {
   "cell_type": "code",
   "execution_count": null,
   "id": "aa291721-c38c-4e80-9cc4-3176050343ac",
   "metadata": {},
   "outputs": [],
   "source": [
    "fig = px.scatter_3d(width=900, height=600, \n",
    "                    x=rvs_X_embedded_3d[:,0], y=rvs_X_embedded_3d[:,1], z=rvs_X_embedded_3d[:,2], \n",
    "                    size=3*mg_sizes, size_max=max(3*mg_sizes), opacity=1,\n",
    "                    color=final_df.teff_gspphot, color_continuous_scale='RdYlBu', template='plotly_dark')\n",
    "fig.show()"
   ]
  },
  {
   "cell_type": "markdown",
   "id": "ab201ab3-2e45-4f4e-96da-b99ff106d50a",
   "metadata": {},
   "source": [
    "---"
   ]
  }
 ],
 "metadata": {
  "kernelspec": {
   "display_name": "Python 3 (ipykernel)",
   "language": "python",
   "name": "python3"
  },
  "language_info": {
   "codemirror_mode": {
    "name": "ipython",
    "version": 3
   },
   "file_extension": ".py",
   "mimetype": "text/x-python",
   "name": "python",
   "nbconvert_exporter": "python",
   "pygments_lexer": "ipython3",
   "version": "3.7.13"
  },
  "toc-autonumbering": true
 },
 "nbformat": 4,
 "nbformat_minor": 5
}
